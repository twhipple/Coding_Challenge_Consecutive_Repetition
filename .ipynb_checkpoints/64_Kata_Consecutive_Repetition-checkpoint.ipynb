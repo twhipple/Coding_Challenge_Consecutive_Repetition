{
 "cells": [
  {
   "cell_type": "markdown",
   "metadata": {},
   "source": [
    "# Character with longest consecutive repetition"
   ]
  },
  {
   "cell_type": "raw",
   "metadata": {},
   "source": [
    "For a given string s find the character c (or C) with longest consecutive repetition and return:\n",
    "\n",
    "(c, l)\n",
    "where l (or L) is the length of the repetition. If there are two or more characters with the same l return the first in order of appearance.\n",
    "\n",
    "For empty string return:\n",
    "\n",
    "('', 0)\n",
    "Happy coding! :)\n"
   ]
  },
  {
   "cell_type": "code",
   "execution_count": 3,
   "metadata": {},
   "outputs": [],
   "source": [
    "def longest_repetition(chars):\n",
    "    pass"
   ]
  },
  {
   "cell_type": "code",
   "execution_count": 213,
   "metadata": {},
   "outputs": [],
   "source": [
    "chars1 = \"aaaabb\" # ('a', 4)\n",
    "chars2 = \"bbbaaabaaaa\" # ('a', 4)\n",
    "chars3 = \"cbdeuuu900\" # ('u', 3)\n",
    "chars4 = \"abbbbb\" # ('b', 5)\n",
    "chars5 = \"aabb\" # ('a', 2)\n",
    "chars6 = \"ba\" # ('b', 1)\n",
    "chars7 = \"\" # ('', 0)"
   ]
  },
  {
   "cell_type": "markdown",
   "metadata": {},
   "source": [
    "# My Code"
   ]
  },
  {
   "cell_type": "code",
   "execution_count": 397,
   "metadata": {},
   "outputs": [],
   "source": [
    "chars2 = \"bbbaaabaaaa\""
   ]
  },
  {
   "cell_type": "code",
   "execution_count": 398,
   "metadata": {},
   "outputs": [
    {
     "name": "stdout",
     "output_type": "stream",
     "text": [
      "b\n",
      "b\n",
      "b\n",
      "a\n",
      "a\n",
      "a\n",
      "b\n",
      "a\n",
      "a\n",
      "a\n",
      "a\n"
     ]
    }
   ],
   "source": [
    "for char in chars2:\n",
    "    print(char)"
   ]
  },
  {
   "cell_type": "code",
   "execution_count": 399,
   "metadata": {},
   "outputs": [
    {
     "data": {
      "text/plain": [
       "{'b': 7, 'a': 11}"
      ]
     },
     "execution_count": 399,
     "metadata": {},
     "output_type": "execute_result"
    }
   ],
   "source": [
    "count = 1\n",
    "char_dict = {}\n",
    "for char in chars2:\n",
    "    char_dict[char] = count\n",
    "    count += 1\n",
    "char_dict"
   ]
  },
  {
   "cell_type": "code",
   "execution_count": 235,
   "metadata": {},
   "outputs": [
    {
     "data": {
      "text/plain": [
       "{'b': 1, 'a': 1}"
      ]
     },
     "execution_count": 235,
     "metadata": {},
     "output_type": "execute_result"
    }
   ],
   "source": [
    "count = 1\n",
    "char_dict = {}\n",
    "for char in chars2:\n",
    "    char_dict[char] = count\n",
    "    count += 1\n",
    "    if char == char:\n",
    "        count = 1\n",
    "char_dict"
   ]
  },
  {
   "cell_type": "code",
   "execution_count": 236,
   "metadata": {},
   "outputs": [
    {
     "data": {
      "text/plain": [
       "{'b': 7, 'a': 11}"
      ]
     },
     "execution_count": 236,
     "metadata": {},
     "output_type": "execute_result"
    }
   ],
   "source": [
    "count = 1\n",
    "char_dict = {}\n",
    "for char in chars2:\n",
    "    char_dict[char] = count\n",
    "    if char_dict[char] == char:\n",
    "        count = count\n",
    "    else:\n",
    "        count += 1\n",
    "char_dict"
   ]
  },
  {
   "cell_type": "code",
   "execution_count": 240,
   "metadata": {},
   "outputs": [
    {
     "data": {
      "text/plain": [
       "11"
      ]
     },
     "execution_count": 240,
     "metadata": {},
     "output_type": "execute_result"
    }
   ],
   "source": [
    "new_char = ''\n",
    "count = 0\n",
    "for char in chars2:\n",
    "    if new_char == char:\n",
    "        new_char = char\n",
    "        count = 1\n",
    "    else:\n",
    "        count += 1\n",
    "new_char \n",
    "count  "
   ]
  },
  {
   "cell_type": "code",
   "execution_count": 241,
   "metadata": {},
   "outputs": [
    {
     "data": {
      "text/plain": [
       "1"
      ]
     },
     "execution_count": 241,
     "metadata": {},
     "output_type": "execute_result"
    }
   ],
   "source": [
    "new_char = ''\n",
    "count = 0\n",
    "for char in chars2:\n",
    "    if new_char == char:\n",
    "        new_char = char\n",
    "        count += 1\n",
    "    else:\n",
    "        count = 1\n",
    "new_char \n",
    "count  "
   ]
  },
  {
   "cell_type": "code",
   "execution_count": 245,
   "metadata": {},
   "outputs": [
    {
     "name": "stdout",
     "output_type": "stream",
     "text": [
      "a\n"
     ]
    },
    {
     "data": {
      "text/plain": [
       "4"
      ]
     },
     "execution_count": 245,
     "metadata": {},
     "output_type": "execute_result"
    }
   ],
   "source": [
    "new_char = ''\n",
    "count = 0\n",
    "for char in chars2:\n",
    "    if char == new_char:\n",
    "        count += 1\n",
    "    else:\n",
    "        new_char = char\n",
    "        count = 1\n",
    "print(new_char)\n",
    "count  "
   ]
  },
  {
   "cell_type": "code",
   "execution_count": null,
   "metadata": {},
   "outputs": [],
   "source": [
    "new_char = ''\n",
    "count = 0\n",
    "for char in chars2:\n",
    "    if char == new_char:\n",
    "        count += 1\n",
    "    else:\n",
    "        new_char = char\n",
    "        count = 1\n",
    "print(new_char)\n",
    "count  "
   ]
  },
  {
   "cell_type": "code",
   "execution_count": 248,
   "metadata": {},
   "outputs": [
    {
     "data": {
      "text/plain": [
       "{'b': 1, 'a': 4}"
      ]
     },
     "execution_count": 248,
     "metadata": {},
     "output_type": "execute_result"
    }
   ],
   "source": [
    "char_dict = {}\n",
    "new_char = ''\n",
    "count = 0\n",
    "for char in chars2:\n",
    "    if char != new_char:\n",
    "        new_char = char\n",
    "        count = 1\n",
    "        char_dict[char] = count\n",
    "    else:\n",
    "        count += 1\n",
    "        char_dict[char] = count\n",
    "\n",
    "char_dict  "
   ]
  },
  {
   "cell_type": "code",
   "execution_count": 249,
   "metadata": {},
   "outputs": [
    {
     "data": {
      "text/plain": [
       "{'b': 3, 'a': 4}"
      ]
     },
     "execution_count": 249,
     "metadata": {},
     "output_type": "execute_result"
    }
   ],
   "source": [
    "char_dict = {}\n",
    "new_char = ''\n",
    "count = 0\n",
    "for char in chars2:\n",
    "    char_dict[char] = count\n",
    "    if char != new_char:\n",
    "        new_char = char\n",
    "        count = 1\n",
    "    else:\n",
    "        count += 1\n",
    "        char_dict[char] = count\n",
    "\n",
    "char_dict  "
   ]
  },
  {
   "cell_type": "code",
   "execution_count": 253,
   "metadata": {},
   "outputs": [
    {
     "name": "stdout",
     "output_type": "stream",
     "text": [
      "['b', 'a', 'b', 'a']\n",
      "[1, 3, 3, 1]\n"
     ]
    }
   ],
   "source": [
    "char_list = []\n",
    "count_list = []\n",
    "new_char = ''\n",
    "count = 1\n",
    "for char in chars2:\n",
    "    if char != new_char:\n",
    "        new_char = char\n",
    "        count_list.append(count)\n",
    "        count = 1\n",
    "        char_list.append(char)\n",
    "    else:\n",
    "        count += 1\n",
    "        \n",
    "print(char_list)\n",
    "print(count_list)"
   ]
  },
  {
   "cell_type": "code",
   "execution_count": 261,
   "metadata": {},
   "outputs": [
    {
     "name": "stdout",
     "output_type": "stream",
     "text": [
      "['b', 'a', 'b', 'a']\n",
      "[]\n"
     ]
    }
   ],
   "source": [
    "char_list = []\n",
    "count_list = []\n",
    "new_char = ''\n",
    "count = 1\n",
    "for char in chars2:\n",
    "    if char != new_char:\n",
    "        new_char = char\n",
    "        count = 1\n",
    "        char_list.append(char)\n",
    "    else: \n",
    "        count += 1\n",
    "\n",
    "print(char_list)\n",
    "print(count_list)"
   ]
  },
  {
   "cell_type": "code",
   "execution_count": 263,
   "metadata": {},
   "outputs": [],
   "source": [
    "chars0 = 'abbcccdddd'"
   ]
  },
  {
   "cell_type": "code",
   "execution_count": 279,
   "metadata": {},
   "outputs": [],
   "source": [
    "chars2 = \"bbbaaabaaaa\" # ('a', 4)"
   ]
  },
  {
   "cell_type": "code",
   "execution_count": 284,
   "metadata": {},
   "outputs": [
    {
     "name": "stdout",
     "output_type": "stream",
     "text": [
      "['b', 'a', 'b', 'a']\n",
      "[1, 3, 3, 1]\n"
     ]
    }
   ],
   "source": [
    "char_list = []\n",
    "count_list = []\n",
    "new_char = ''\n",
    "count = 1\n",
    "for char in chars2:\n",
    "    if char == new_char:\n",
    "        count += 1  \n",
    "    else:\n",
    "        count_list.append(count)\n",
    "        new_char = char\n",
    "        count = 1\n",
    "        char_list.append(char)\n",
    "        \n",
    "\n",
    "print(char_list)\n",
    "print(count_list)"
   ]
  },
  {
   "cell_type": "code",
   "execution_count": 314,
   "metadata": {},
   "outputs": [
    {
     "name": "stdout",
     "output_type": "stream",
     "text": [
      "0 b\n",
      "1 b\n",
      "2 b\n",
      "3 a\n",
      "4 a\n",
      "5 a\n",
      "6 b\n",
      "7 a\n",
      "8 a\n",
      "9 a\n"
     ]
    }
   ],
   "source": [
    "for i in range(0,len(chars2)-1):\n",
    "    print(i,chars2[i])"
   ]
  },
  {
   "cell_type": "code",
   "execution_count": 320,
   "metadata": {},
   "outputs": [
    {
     "data": {
      "text/plain": [
       "6"
      ]
     },
     "execution_count": 320,
     "metadata": {},
     "output_type": "execute_result"
    }
   ],
   "source": [
    "count = 0\n",
    "char_str = ''\n",
    "for i in range(0,len(chars2)-1):\n",
    "    if chars2[i] == chars2[i-1]:\n",
    "        count += 1\n",
    "count"
   ]
  },
  {
   "cell_type": "code",
   "execution_count": 339,
   "metadata": {},
   "outputs": [
    {
     "name": "stdout",
     "output_type": "stream",
     "text": [
      "\n"
     ]
    }
   ],
   "source": [
    "char_list = []\n",
    "new_char = ''\n",
    "for char in chars2:\n",
    "    if char != new_char:\n",
    "        new_char = ''\n",
    "    else:\n",
    "        ''.join(new_char)\n",
    "        \n",
    "print(new_char)"
   ]
  },
  {
   "cell_type": "code",
   "execution_count": 345,
   "metadata": {},
   "outputs": [
    {
     "name": "stdout",
     "output_type": "stream",
     "text": [
      "['b', 'b', 'b', 'a', 'a', 'a', 'b', 'a', 'a', 'a', 'a']\n"
     ]
    }
   ],
   "source": [
    "char_list = []\n",
    "count_list = []\n",
    "new_char = ''\n",
    "for char in chars2:\n",
    "    if char == new_char:\n",
    "        char_list.append(char)\n",
    "        new_char += ''.join(char)\n",
    "    else:\n",
    "        new_char = char\n",
    "        char_list.append(char)\n",
    "        \n",
    "\n",
    "print(char_list)\n"
   ]
  },
  {
   "cell_type": "code",
   "execution_count": 331,
   "metadata": {},
   "outputs": [
    {
     "data": {
      "text/plain": [
       "10"
      ]
     },
     "execution_count": 331,
     "metadata": {},
     "output_type": "execute_result"
    }
   ],
   "source": [
    "count = 0\n",
    "char_str = ''\n",
    "prev = None\n",
    "for i in range(0,len(chars2)-1):\n",
    "    if chars2[i] == prev:\n",
    "        prev = chars2[i]\n",
    "    else:\n",
    "        count += 1\n",
    "        \n",
    "count"
   ]
  },
  {
   "cell_type": "code",
   "execution_count": null,
   "metadata": {},
   "outputs": [],
   "source": [
    "new_array = []\n",
    "for char in chars2:\n",
    "    new_word = word[0]\n",
    "    for c in word:\n",
    "        counter = 0\n",
    "        if c == new_word[counter - 1]:\n",
    "            pass\n",
    "        else:\n",
    "            new_word += c\n",
    "    new_array.append(new_word)"
   ]
  },
  {
   "cell_type": "code",
   "execution_count": 328,
   "metadata": {},
   "outputs": [],
   "source": [
    "def longest_repetition(chars):\n",
    "    array_new = []\n",
    "    for string in chars:\n",
    "        string_new = \"\"\n",
    "        prev = None\n",
    "        count = 0\n",
    "        for char in string:\n",
    "            if char != prev:\n",
    "                string_new += char\n",
    "                count += 1\n",
    "            prev = char\n",
    "            array_new.append(string_new)\n",
    "        \n",
    "    return array_new, count"
   ]
  },
  {
   "cell_type": "code",
   "execution_count": 329,
   "metadata": {},
   "outputs": [
    {
     "data": {
      "text/plain": [
       "(['b', 'b', 'b', 'a', 'a', 'a', 'b', 'a', 'a', 'a', 'a'], 1)"
      ]
     },
     "execution_count": 329,
     "metadata": {},
     "output_type": "execute_result"
    }
   ],
   "source": [
    "longest_repetition(\"bbbaaabaaaa\")"
   ]
  },
  {
   "cell_type": "code",
   "execution_count": null,
   "metadata": {},
   "outputs": [],
   "source": [
    "chars2 = \"bbbaaabaaaa\""
   ]
  },
  {
   "cell_type": "code",
   "execution_count": 348,
   "metadata": {},
   "outputs": [],
   "source": [
    "char_list = [char for char in chars2]"
   ]
  },
  {
   "cell_type": "code",
   "execution_count": 349,
   "metadata": {},
   "outputs": [
    {
     "data": {
      "text/plain": [
       "['b', 'b', 'b', 'a', 'a', 'a', 'b', 'a', 'a', 'a', 'a']"
      ]
     },
     "execution_count": 349,
     "metadata": {},
     "output_type": "execute_result"
    }
   ],
   "source": [
    "char_list"
   ]
  },
  {
   "cell_type": "code",
   "execution_count": 353,
   "metadata": {},
   "outputs": [
    {
     "data": {
      "text/plain": [
       "'bbbaaabaaaa'"
      ]
     },
     "execution_count": 353,
     "metadata": {},
     "output_type": "execute_result"
    }
   ],
   "source": [
    "chars2"
   ]
  },
  {
   "cell_type": "code",
   "execution_count": 365,
   "metadata": {},
   "outputs": [
    {
     "name": "stdout",
     "output_type": "stream",
     "text": [
      "b\n",
      "\n",
      "b\n",
      "\n",
      "b\n",
      "\n",
      "a\n",
      "\n",
      "a\n",
      "\n",
      "a\n",
      "\n",
      "b\n",
      "\n",
      "a\n",
      "\n",
      "a\n",
      "\n",
      "a\n",
      "\n",
      "a\n",
      "\n"
     ]
    },
    {
     "data": {
      "text/plain": [
       "''"
      ]
     },
     "execution_count": 365,
     "metadata": {},
     "output_type": "execute_result"
    }
   ],
   "source": [
    "prev = ''\n",
    "for i in range(len(chars2)):\n",
    "    if chars2[i] == prev:\n",
    "        prev = ''.join(chars2[i])\n",
    "    else:\n",
    "        prev == chars2[i]\n",
    "        print(chars2[i])\n",
    "        print(prev)\n",
    "prev"
   ]
  },
  {
   "cell_type": "code",
   "execution_count": 366,
   "metadata": {},
   "outputs": [
    {
     "name": "stdout",
     "output_type": "stream",
     "text": [
      "b\n",
      "\n",
      "b\n",
      "\n",
      "b\n",
      "\n",
      "a\n",
      "\n",
      "a\n",
      "\n",
      "a\n",
      "\n",
      "b\n",
      "\n",
      "a\n",
      "\n",
      "a\n",
      "\n",
      "a\n",
      "\n",
      "a\n",
      "\n"
     ]
    },
    {
     "data": {
      "text/plain": [
       "''"
      ]
     },
     "execution_count": 366,
     "metadata": {},
     "output_type": "execute_result"
    }
   ],
   "source": [
    "prev = ''\n",
    "for i in range(len(chars2)):\n",
    "    if chars2[i] != prev:\n",
    "        prev == chars2[i]\n",
    "        print(chars2[i])\n",
    "        print(prev)\n",
    "    else:\n",
    "        prev = ''.join(chars2[i])\n",
    "        \n",
    "prev"
   ]
  },
  {
   "cell_type": "code",
   "execution_count": 396,
   "metadata": {},
   "outputs": [
    {
     "data": {
      "text/plain": [
       "',,,,,,,,,,,'"
      ]
     },
     "execution_count": 396,
     "metadata": {},
     "output_type": "execute_result"
    }
   ],
   "source": [
    "prev = ''\n",
    "for i in range(len(chars2)):\n",
    "    if chars2[i] != prev:\n",
    "        prev == chars2[i]\n",
    "        prev += ','\n",
    "    else:\n",
    "        prev = ' '.join(chars2[i])\n",
    "        \n",
    "prev"
   ]
  },
  {
   "cell_type": "code",
   "execution_count": 405,
   "metadata": {},
   "outputs": [
    {
     "data": {
      "text/plain": [
       "{'b': 0, 'a': 0}"
      ]
     },
     "execution_count": 405,
     "metadata": {},
     "output_type": "execute_result"
    }
   ],
   "source": [
    "char_dict = {}\n",
    "count = 0\n",
    "for char in chars2:\n",
    "    char_dict[char] = count\n",
    "    if char == char_dict[char]:\n",
    "        count += 1\n",
    "    else:\n",
    "        count += 0\n",
    "char_dict"
   ]
  },
  {
   "cell_type": "code",
   "execution_count": 407,
   "metadata": {},
   "outputs": [],
   "source": [
    "from itertools import groupby"
   ]
  },
  {
   "cell_type": "code",
   "execution_count": 408,
   "metadata": {},
   "outputs": [],
   "source": [
    "groups = groupby(chars2)\n",
    "result = [(label, sum(1 for _ in group)) for label, group in groups]"
   ]
  },
  {
   "cell_type": "code",
   "execution_count": 409,
   "metadata": {},
   "outputs": [
    {
     "data": {
      "text/plain": [
       "[('b', 3), ('a', 3), ('b', 1), ('a', 4)]"
      ]
     },
     "execution_count": 409,
     "metadata": {},
     "output_type": "execute_result"
    }
   ],
   "source": [
    "result"
   ]
  },
  {
   "cell_type": "code",
   "execution_count": null,
   "metadata": {},
   "outputs": [],
   "source": [
    "result"
   ]
  },
  {
   "cell_type": "code",
   "execution_count": 418,
   "metadata": {},
   "outputs": [
    {
     "data": {
      "text/plain": [
       "[('a', 3), ('a', 4), ('b', 1), ('b', 3)]"
      ]
     },
     "execution_count": 418,
     "metadata": {},
     "output_type": "execute_result"
    }
   ],
   "source": [
    "sorted(result)"
   ]
  },
  {
   "cell_type": "code",
   "execution_count": 430,
   "metadata": {},
   "outputs": [
    {
     "data": {
      "text/plain": [
       "<itertools.groupby at 0x7fc478b14170>"
      ]
     },
     "execution_count": 430,
     "metadata": {},
     "output_type": "execute_result"
    }
   ],
   "source": [
    "groups = groupby(chars2)\n",
    "groups"
   ]
  },
  {
   "cell_type": "code",
   "execution_count": 431,
   "metadata": {},
   "outputs": [
    {
     "name": "stdout",
     "output_type": "stream",
     "text": [
      "b <itertools._grouper object at 0x7fc470856a50>\n",
      "a <itertools._grouper object at 0x7fc470856390>\n",
      "b <itertools._grouper object at 0x7fc478af4e10>\n",
      "a <itertools._grouper object at 0x7fc478ab29d0>\n"
     ]
    }
   ],
   "source": [
    "for i, j in groups:\n",
    "    print(i, j)"
   ]
  },
  {
   "cell_type": "code",
   "execution_count": 439,
   "metadata": {},
   "outputs": [
    {
     "data": {
      "text/plain": [
       "[('b', 3), ('a', 3), ('b', 1), ('a', 4)]"
      ]
     },
     "execution_count": 439,
     "metadata": {},
     "output_type": "execute_result"
    }
   ],
   "source": [
    "char = groupby(chars2)\n",
    "result = [(i, sum(1 for _ in j)) for i, j in char]\n",
    "result"
   ]
  },
  {
   "cell_type": "code",
   "execution_count": 450,
   "metadata": {},
   "outputs": [
    {
     "data": {
      "text/plain": [
       "[('a', 3), ('a', 4), ('b', 1), ('b', 3)]"
      ]
     },
     "execution_count": 450,
     "metadata": {},
     "output_type": "execute_result"
    }
   ],
   "source": [
    "sorted(result)"
   ]
  },
  {
   "cell_type": "code",
   "execution_count": 451,
   "metadata": {},
   "outputs": [
    {
     "data": {
      "text/plain": [
       "3"
      ]
     },
     "execution_count": 451,
     "metadata": {},
     "output_type": "execute_result"
    }
   ],
   "source": [
    "result"
   ]
  },
  {
   "cell_type": "code",
   "execution_count": 465,
   "metadata": {},
   "outputs": [],
   "source": [
    "result = [list(g) for k, g in groupby(chars2)]"
   ]
  },
  {
   "cell_type": "code",
   "execution_count": 466,
   "metadata": {},
   "outputs": [
    {
     "data": {
      "text/plain": [
       "[['b', 'b', 'b'], ['a', 'a', 'a'], ['b'], ['a', 'a', 'a', 'a']]"
      ]
     },
     "execution_count": 466,
     "metadata": {},
     "output_type": "execute_result"
    }
   ],
   "source": [
    "result"
   ]
  },
  {
   "cell_type": "code",
   "execution_count": 473,
   "metadata": {},
   "outputs": [
    {
     "data": {
      "text/plain": [
       "[['b', 'b', 'b'], ['a', 'a', 'a'], ['b'], ['a', 'a', 'a', 'a']]"
      ]
     },
     "execution_count": 473,
     "metadata": {},
     "output_type": "execute_result"
    }
   ],
   "source": [
    "result"
   ]
  },
  {
   "cell_type": "code",
   "execution_count": 479,
   "metadata": {},
   "outputs": [
    {
     "name": "stdout",
     "output_type": "stream",
     "text": [
      "['b', 'b', 'b']\n",
      "['a', 'a', 'a']\n",
      "['b']\n",
      "['a', 'a', 'a', 'a']\n"
     ]
    }
   ],
   "source": [
    "for i in result:\n",
    "    print(i)"
   ]
  },
  {
   "cell_type": "code",
   "execution_count": 484,
   "metadata": {},
   "outputs": [
    {
     "name": "stdout",
     "output_type": "stream",
     "text": [
      "3\n",
      "3\n",
      "1\n",
      "4\n"
     ]
    }
   ],
   "source": [
    "for i in result:\n",
    "    print(len(i))"
   ]
  },
  {
   "cell_type": "code",
   "execution_count": 489,
   "metadata": {},
   "outputs": [
    {
     "data": {
      "text/plain": [
       "[(4, 'a'), (3, 'b'), (3, 'a'), (1, 'b')]"
      ]
     },
     "execution_count": 489,
     "metadata": {},
     "output_type": "execute_result"
    }
   ],
   "source": [
    "char = groupby(chars2)\n",
    "result = [(sum(1 for _ in i), j) for j, i in char]\n",
    "sorted(result)[::-1]"
   ]
  },
  {
   "cell_type": "code",
   "execution_count": 491,
   "metadata": {},
   "outputs": [
    {
     "data": {
      "text/plain": [
       "(4, 'a')"
      ]
     },
     "execution_count": 491,
     "metadata": {},
     "output_type": "execute_result"
    }
   ],
   "source": [
    "max(result)"
   ]
  },
  {
   "cell_type": "code",
   "execution_count": 494,
   "metadata": {},
   "outputs": [
    {
     "data": {
      "text/plain": [
       "('a', 4)"
      ]
     },
     "execution_count": 494,
     "metadata": {},
     "output_type": "execute_result"
    }
   ],
   "source": [
    "result[3][::-1]"
   ]
  },
  {
   "cell_type": "code",
   "execution_count": 499,
   "metadata": {},
   "outputs": [
    {
     "data": {
      "text/plain": [
       "('a', 4)"
      ]
     },
     "execution_count": 499,
     "metadata": {},
     "output_type": "execute_result"
    }
   ],
   "source": [
    "#('a', 4)\n",
    "char = groupby(chars2)\n",
    "result = sorted([(sum(1 for _ in i), j) for j, i in char])[::-1]\n",
    "max(result)[::-1]"
   ]
  },
  {
   "cell_type": "code",
   "execution_count": 500,
   "metadata": {},
   "outputs": [
    {
     "data": {
      "text/plain": [
       "('a', 4)"
      ]
     },
     "execution_count": 500,
     "metadata": {},
     "output_type": "execute_result"
    }
   ],
   "source": [
    "#('a', 4)\n",
    "char = groupby(chars1)\n",
    "result = sorted([(sum(1 for _ in i), j) for j, i in char])[::-1]\n",
    "max(result)[::-1]"
   ]
  },
  {
   "cell_type": "code",
   "execution_count": 501,
   "metadata": {},
   "outputs": [
    {
     "data": {
      "text/plain": [
       "('u', 3)"
      ]
     },
     "execution_count": 501,
     "metadata": {},
     "output_type": "execute_result"
    }
   ],
   "source": [
    "#('u', 3)\n",
    "char = groupby(chars3)\n",
    "result = sorted([(sum(1 for _ in i), j) for j, i in char])[::-1]\n",
    "max(result)[::-1]"
   ]
  },
  {
   "cell_type": "code",
   "execution_count": 502,
   "metadata": {},
   "outputs": [
    {
     "data": {
      "text/plain": [
       "('b', 5)"
      ]
     },
     "execution_count": 502,
     "metadata": {},
     "output_type": "execute_result"
    }
   ],
   "source": [
    "# ('b', 5)\n",
    "char = groupby(chars4)\n",
    "result = sorted([(sum(1 for _ in i), j) for j, i in char])[::-1]\n",
    "max(result)[::-1]"
   ]
  },
  {
   "cell_type": "code",
   "execution_count": 506,
   "metadata": {},
   "outputs": [
    {
     "data": {
      "text/plain": [
       "('b', 1)"
      ]
     },
     "execution_count": 506,
     "metadata": {},
     "output_type": "execute_result"
    }
   ],
   "source": [
    "# ('b', 1)\n",
    "char = groupby(chars6)\n",
    "result = sorted([(sum(1 for _ in i), j) for j, i in char])[::-1]\n",
    "max(result)[::-1]"
   ]
  },
  {
   "cell_type": "code",
   "execution_count": 508,
   "metadata": {},
   "outputs": [
    {
     "data": {
      "text/plain": [
       "('b', 1)"
      ]
     },
     "execution_count": 508,
     "metadata": {},
     "output_type": "execute_result"
    }
   ],
   "source": [
    "chars7 = \"\" # ('', 0)\n",
    "char = groupby(chars6)\n",
    "result = sorted([(sum(1 for _ in i), j) for j, i in char])[::-1]\n",
    "max(result)[::-1]"
   ]
  },
  {
   "cell_type": "code",
   "execution_count": 509,
   "metadata": {},
   "outputs": [],
   "source": [
    "def longest_repetition(chars):\n",
    "    char = groupby(chars)\n",
    "    result = sorted([(sum(1 for _ in i), j) for j, i in char])[::-1]\n",
    "    return max(result)[::-1]"
   ]
  },
  {
   "cell_type": "code",
   "execution_count": 510,
   "metadata": {},
   "outputs": [],
   "source": [
    "chars1 = \"aaaabb\" # ('a', 4)\n",
    "chars2 = \"bbbaaabaaaa\" # ('a', 4)\n",
    "chars3 = \"cbdeuuu900\" # ('u', 3)\n",
    "chars4 = \"abbbbb\" # ('b', 5)\n",
    "chars5 = \"aabb\" # ('a', 2)\n",
    "chars6 = \"ba\" # ('b', 1)\n",
    "chars7 = \"\" # ('', 0)"
   ]
  },
  {
   "cell_type": "code",
   "execution_count": 517,
   "metadata": {},
   "outputs": [
    {
     "name": "stdout",
     "output_type": "stream",
     "text": [
      "('a', 4)\n",
      "('a', 4)\n",
      "('u', 3)\n",
      "('b', 5)\n",
      "('b', 2)\n",
      "('b', 1)\n"
     ]
    }
   ],
   "source": [
    "print(longest_repetition(chars1))\n",
    "print(longest_repetition(chars2))\n",
    "print(longest_repetition(chars3))\n",
    "print(longest_repetition(chars4))\n",
    "print(longest_repetition(chars5))\n",
    "print(longest_repetition(chars6))"
   ]
  },
  {
   "cell_type": "code",
   "execution_count": 515,
   "metadata": {},
   "outputs": [],
   "source": [
    "def longest_repetition(chars):\n",
    "    if chars == '':\n",
    "        return ('', 0)\n",
    "    else:\n",
    "        char = groupby(chars)\n",
    "        result = sorted([(sum(1 for _ in i), j) for j, i in char])[::-1]\n",
    "        return max(result)[::-1]"
   ]
  },
  {
   "cell_type": "code",
   "execution_count": 516,
   "metadata": {},
   "outputs": [
    {
     "name": "stdout",
     "output_type": "stream",
     "text": [
      "('', 0)\n"
     ]
    }
   ],
   "source": [
    "print(longest_repetition(chars7))"
   ]
  },
  {
   "cell_type": "code",
   "execution_count": 522,
   "metadata": {},
   "outputs": [
    {
     "data": {
      "text/plain": [
       "[(2, 'b'), (2, 'a'), (1, 'c')]"
      ]
     },
     "execution_count": 522,
     "metadata": {},
     "output_type": "execute_result"
    }
   ],
   "source": [
    "chars5 = \"aabbc\" # ('a', 2)\n",
    "\n",
    "char = groupby(chars5)\n",
    "result = [(sum(1 for _ in i), j) for j, i in char]\n",
    "sorted(result)[::-1]"
   ]
  },
  {
   "cell_type": "code",
   "execution_count": 523,
   "metadata": {},
   "outputs": [
    {
     "data": {
      "text/plain": [
       "[(2, 'a'), (2, 'b'), (1, 'c')]"
      ]
     },
     "execution_count": 523,
     "metadata": {},
     "output_type": "execute_result"
    }
   ],
   "source": [
    "char = groupby(chars5)\n",
    "result = [(sum(1 for _ in i), j) for j, i in char]\n",
    "result"
   ]
  },
  {
   "cell_type": "code",
   "execution_count": 526,
   "metadata": {},
   "outputs": [
    {
     "data": {
      "text/plain": [
       "('a', 2)"
      ]
     },
     "execution_count": 526,
     "metadata": {},
     "output_type": "execute_result"
    }
   ],
   "source": [
    "result[0][::-1]"
   ]
  },
  {
   "cell_type": "code",
   "execution_count": 527,
   "metadata": {},
   "outputs": [],
   "source": [
    "def longest_repetition(chars):\n",
    "    if chars == '':\n",
    "        return ('', 0)\n",
    "    else:\n",
    "        char = groupby(chars)\n",
    "        result = [(sum(1 for _ in i), j) for j, i in char]\n",
    "        return result[0][::-1]"
   ]
  },
  {
   "cell_type": "code",
   "execution_count": 529,
   "metadata": {},
   "outputs": [
    {
     "name": "stdout",
     "output_type": "stream",
     "text": [
      "('a', 4)\n",
      "('b', 3)\n",
      "('c', 1)\n",
      "('a', 1)\n",
      "('a', 2)\n",
      "('b', 1)\n",
      "('', 0)\n"
     ]
    }
   ],
   "source": [
    "print(longest_repetition(chars1)) # ('a', 4)\n",
    "print(longest_repetition(chars2)) # ('a', 4)\n",
    "print(longest_repetition(chars3)) # ('u', 3)\n",
    "print(longest_repetition(chars4)) # ('b', 5)\n",
    "print(longest_repetition(chars5)) # ('a', 2)\n",
    "print(longest_repetition(chars6)) # ('b', 1)\n",
    "print(longest_repetition(chars7)) # ('', 0)"
   ]
  },
  {
   "cell_type": "code",
   "execution_count": 536,
   "metadata": {},
   "outputs": [
    {
     "data": {
      "text/plain": [
       "[(3, 'b'), (3, 'a'), (1, 'b'), (4, 'a')]"
      ]
     },
     "execution_count": 536,
     "metadata": {},
     "output_type": "execute_result"
    }
   ],
   "source": [
    "chars2 = \"bbbaaabaaaa\" # ('a', 4)\n",
    "\n",
    "char = groupby(chars2)\n",
    "result = [(sum(1 for _ in i), j) for j, i in char]\n",
    "result"
   ]
  },
  {
   "cell_type": "code",
   "execution_count": 538,
   "metadata": {},
   "outputs": [
    {
     "data": {
      "text/plain": [
       "('a', 4)"
      ]
     },
     "execution_count": 538,
     "metadata": {},
     "output_type": "execute_result"
    }
   ],
   "source": [
    "max(result)[::-1]"
   ]
  },
  {
   "cell_type": "code",
   "execution_count": 546,
   "metadata": {},
   "outputs": [
    {
     "data": {
      "text/plain": [
       "[(2, 'a'), (2, 'b')]"
      ]
     },
     "execution_count": 546,
     "metadata": {},
     "output_type": "execute_result"
    }
   ],
   "source": [
    "chars5 = \"aabb\" # ('a', 2)\n",
    "\n",
    "char = groupby(chars5)\n",
    "result = [(sum(1 for _ in i), j) for j, i in char]\n",
    "result"
   ]
  },
  {
   "cell_type": "code",
   "execution_count": 547,
   "metadata": {},
   "outputs": [
    {
     "data": {
      "text/plain": [
       "('a', 2)"
      ]
     },
     "execution_count": 547,
     "metadata": {},
     "output_type": "execute_result"
    }
   ],
   "source": [
    "result[0][::-1]"
   ]
  },
  {
   "cell_type": "code",
   "execution_count": 551,
   "metadata": {},
   "outputs": [
    {
     "data": {
      "text/plain": [
       "[('a', 2), ('b', 2)]"
      ]
     },
     "execution_count": 551,
     "metadata": {},
     "output_type": "execute_result"
    }
   ],
   "source": [
    "char = groupby(chars5)\n",
    "result = [(i, sum(1 for _ in j)) for i, j in char]\n",
    "result"
   ]
  },
  {
   "cell_type": "code",
   "execution_count": 552,
   "metadata": {},
   "outputs": [],
   "source": [
    "chars2 = \"bbbaaabaaaa\""
   ]
  },
  {
   "cell_type": "code",
   "execution_count": 554,
   "metadata": {},
   "outputs": [
    {
     "data": {
      "text/plain": [
       "('a', 3)"
      ]
     },
     "execution_count": 554,
     "metadata": {},
     "output_type": "execute_result"
    }
   ],
   "source": [
    "max_len = 0\n",
    "max_chr = ''\n",
    "cur_len = 0\n",
    "cur_chr = ''\n",
    "\n",
    "for i in chars:\n",
    "    if i == cur_chr:\n",
    "        cur_len += 1\n",
    "        if cur_len > max_len:\n",
    "            max_len = cur_len\n",
    "            max_chr = i\n",
    "    else:\n",
    "        cur_chr = i\n",
    "        cur_len = 0\n",
    "\n",
    "(max_chr, max_len)"
   ]
  },
  {
   "cell_type": "code",
   "execution_count": 559,
   "metadata": {},
   "outputs": [],
   "source": [
    "# Finally... after watching Jeff's video.  \n",
    "def longest_repetition(chars):\n",
    "    if chars == '':\n",
    "        return ('', 0)\n",
    "    else:\n",
    "        max_len = 0\n",
    "        max_chr = ''\n",
    "        cur_len = 0\n",
    "        cur_chr = chars[0]\n",
    "\n",
    "        for i in chars:\n",
    "            if i == cur_chr:\n",
    "                cur_len += 1\n",
    "                if cur_len > max_len:\n",
    "                    max_len = cur_len\n",
    "                    max_chr = i\n",
    "            else:\n",
    "                cur_chr = i\n",
    "                cur_len = 1\n",
    "\n",
    "        return (max_chr, max_len)"
   ]
  },
  {
   "cell_type": "code",
   "execution_count": 560,
   "metadata": {},
   "outputs": [
    {
     "name": "stdout",
     "output_type": "stream",
     "text": [
      "('a', 4)\n",
      "('a', 4)\n",
      "('u', 3)\n",
      "('b', 5)\n",
      "('a', 2)\n",
      "('b', 1)\n",
      "('', 0)\n"
     ]
    }
   ],
   "source": [
    "print(longest_repetition(chars1)) # ('a', 4)\n",
    "print(longest_repetition(chars2)) # ('a', 4)\n",
    "print(longest_repetition(chars3)) # ('u', 3)\n",
    "print(longest_repetition(chars4)) # ('b', 5)\n",
    "print(longest_repetition(chars5)) # ('a', 2)\n",
    "print(longest_repetition(chars6)) # ('b', 1)\n",
    "print(longest_repetition(chars7)) # ('', 0)"
   ]
  },
  {
   "cell_type": "code",
   "execution_count": null,
   "metadata": {},
   "outputs": [],
   "source": []
  },
  {
   "cell_type": "markdown",
   "metadata": {},
   "source": [
    "# Other Solutions"
   ]
  },
  {
   "cell_type": "code",
   "execution_count": null,
   "metadata": {},
   "outputs": [],
   "source": [
    "def longest_repetition(chars):\n",
    "    max_char, max_count = '', 0\n",
    "    char, count = '', 0\n",
    "    for c in chars:\n",
    "        if c != char:\n",
    "            count, char = 0, c\n",
    "        count += 1\n",
    "        if count > max_count:\n",
    "            max_char, max_count = char, count\n",
    "    return max_char, max_count"
   ]
  },
  {
   "cell_type": "code",
   "execution_count": null,
   "metadata": {},
   "outputs": [],
   "source": [
    "def longest_repetition(chars):\n",
    "    from itertools import groupby\n",
    "    return max(((char, len(list(group))) for char, group in groupby(chars)),\n",
    "               key=lambda char_group: char_group[1], default=(\"\", 0))"
   ]
  },
  {
   "cell_type": "code",
   "execution_count": 561,
   "metadata": {},
   "outputs": [],
   "source": [
    "import re\n",
    "\n",
    "def longest_repetition(chars):\n",
    "    if not chars: return (\"\", 0)\n",
    "    \n",
    "    longest = max(re.findall(r\"((.)\\2*)\", chars), key=lambda x: len(x[0]))\n",
    "    return (longest[1], len(longest[0]))"
   ]
  },
  {
   "cell_type": "code",
   "execution_count": null,
   "metadata": {},
   "outputs": [],
   "source": []
  }
 ],
 "metadata": {
  "kernelspec": {
   "display_name": "Python 3",
   "language": "python",
   "name": "python3"
  },
  "language_info": {
   "codemirror_mode": {
    "name": "ipython",
    "version": 3
   },
   "file_extension": ".py",
   "mimetype": "text/x-python",
   "name": "python",
   "nbconvert_exporter": "python",
   "pygments_lexer": "ipython3",
   "version": "3.7.6"
  },
  "toc": {
   "base_numbering": 1,
   "nav_menu": {},
   "number_sections": true,
   "sideBar": true,
   "skip_h1_title": false,
   "title_cell": "Table of Contents",
   "title_sidebar": "Contents",
   "toc_cell": false,
   "toc_position": {},
   "toc_section_display": true,
   "toc_window_display": false
  }
 },
 "nbformat": 4,
 "nbformat_minor": 4
}
